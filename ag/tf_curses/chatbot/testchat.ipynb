{
 "cells": [
  {
   "cell_type": "code",
   "execution_count": 9,
   "metadata": {
    "collapsed": true
   },
   "outputs": [],
   "source": [
    "import inflect\n",
    "p = inflect.engine()\n",
    "convert = p.number_to_words"
   ]
  },
  {
   "cell_type": "code",
   "execution_count": 10,
   "metadata": {},
   "outputs": [
    {
     "name": "stdout",
     "output_type": "stream",
     "text": [
      "0 one thousand, nine hundred and eighty-two\n1 ask\n2 five\n3 test\n"
     ]
    }
   ],
   "source": [
    "words = [1982, 'ask', 5, 'test']\n",
    "len(words)\n",
    "for i, word in enumerate(words):\n",
    "\n",
    "    if isinstance(word, int):\n",
    "        word = convert(word)\n",
    "\n",
    "    print(i, word)"
   ]
  },
  {
   "cell_type": "code",
   "execution_count": 1,
   "metadata": {},
   "outputs": [],
   "source": [
    "string = \"x=thistest\""
   ]
  },
  {
   "cell_type": "code",
   "execution_count": 13,
   "metadata": {},
   "outputs": [
    {
     "name": "stdout",
     "output_type": "stream",
     "text": [
      "x=\n"
     ]
    }
   ],
   "source": [
    "print(string[:2])"
   ]
  },
  {
   "cell_type": "code",
   "execution_count": 5,
   "metadata": {},
   "outputs": [
    {
     "name": "stdout",
     "output_type": "stream",
     "text": [
      "[8, 2, 'test', 'fourty', 54]\n"
     ]
    }
   ],
   "source": [
    "array = [8, 2, 'test', 'fourty', 54]\n",
    "print (array)"
   ]
  },
  {
   "cell_type": "code",
   "execution_count": 10,
   "metadata": {},
   "outputs": [
    {
     "name": "stdout",
     "output_type": "stream",
     "text": [
      "['test', 'fourty', 54]\n"
     ]
    }
   ],
   "source": [
    "max_len = 3\n",
    "array_len = len(array)\n",
    "\n",
    "print(array[-max_len:])"
   ]
  },
  {
   "cell_type": "code",
   "execution_count": null,
   "metadata": {},
   "outputs": [],
   "source": [
    ""
   ]
  }
 ],
 "metadata": {
  "kernelspec": {
   "display_name": "Python 2",
   "language": "python",
   "name": "python2"
  },
  "language_info": {
   "codemirror_mode": {
    "name": "ipython",
    "version": 2.0
   },
   "file_extension": ".py",
   "mimetype": "text/x-python",
   "name": "python",
   "nbconvert_exporter": "python",
   "pygments_lexer": "ipython2",
   "version": "2.7.6"
  }
 },
 "nbformat": 4,
 "nbformat_minor": 0
}